{
 "cells": [
  {
   "cell_type": "markdown",
   "metadata": {},
   "source": [
    "## **1)** PyGWalker"
   ]
  },
  {
   "cell_type": "code",
   "execution_count": null,
   "metadata": {},
   "outputs": [],
   "source": [
    "# Instalar pygwalker na máquina local\n",
    "!pip install pygwalker -q"
   ]
  },
  {
   "cell_type": "code",
   "execution_count": null,
   "metadata": {},
   "outputs": [],
   "source": [
    "# Importa pygwalker e pandas\n",
    "import pandas as pd\n",
    "import pygwalker as pyg\n",
    "\n",
    "# Lê dados e cria dataframe\n",
    "df = pd.read_excel('SECOES_IBGE_DESCRICAO_ATUALIZADA.xlsx')\n",
    "\n",
    "# Redenriza interface do pygwalker\n",
    "walker = pyg.walk(df)"
   ]
  },
  {
   "cell_type": "markdown",
   "metadata": {},
   "source": [
    "## **2)** MitoSheet"
   ]
  },
  {
   "cell_type": "code",
   "execution_count": null,
   "metadata": {},
   "outputs": [],
   "source": [
    "# Instalar pygwalker na máquina local\n",
    "!python -m pip install mitosheet -q\n",
    "\n",
    "# Ativa a extensão do mitosheet no jupyter (If you have a currently running Jupyter Notebook, restart your kernel and refresh the page. Then continue to creating a mitosheet)\n",
    "!python -m jupyter nbextension install --py --user mitosheet\n",
    "!python -m jupyter nbextension enable --py --user mitosheet"
   ]
  },
  {
   "cell_type": "code",
   "execution_count": null,
   "metadata": {},
   "outputs": [],
   "source": [
    "# Importa mitosheet\n",
    "import mitosheet\n",
    "\n",
    "# Redenriza interface do pygwalker\n",
    "mitosheet.sheet(analysis_to_replay=\"id-ikrfcqmxxr\")\n",
    "\n",
    "# OBS: O import dos dados é feita diretamente na interface do mitosheet"
   ]
  },
  {
   "cell_type": "markdown",
   "metadata": {},
   "source": [
    "# **3)** D-Tale"
   ]
  },
  {
   "cell_type": "code",
   "execution_count": 1,
   "metadata": {},
   "outputs": [],
   "source": [
    "# Instalar D-Tale na máquina local\n",
    "!pip install dtale -q\n",
    "!pip install openpyxl --upgrade # garante upgrade do pacote openpyxl"
   ]
  },
  {
   "cell_type": "code",
   "execution_count": 1,
   "metadata": {},
   "outputs": [
    {
     "data": {
      "text/html": [
       "\n",
       "        <iframe\n",
       "            width=\"100%\"\n",
       "            height=\"475\"\n",
       "            src=\"http://Victor_Hugo:40000/dtale/iframe/1\"\n",
       "            frameborder=\"0\"\n",
       "            allowfullscreen\n",
       "            \n",
       "        ></iframe>\n",
       "        "
      ],
      "text/plain": [
       "<IPython.lib.display.IFrame at 0x260c41059d0>"
      ]
     },
     "metadata": {},
     "output_type": "display_data"
    },
    {
     "data": {
      "text/plain": []
     },
     "execution_count": 1,
     "metadata": {},
     "output_type": "execute_result"
    }
   ],
   "source": [
    "# Import D-Tale e pandas\n",
    "import dtale\n",
    "import pandas as pd\n",
    "\n",
    "# Lê dados e cria dataframe\n",
    "df = pd.read_excel('SECOES_IBGE_DESCRICAO_ATUALIZADA.xlsx')\n",
    "\n",
    "# Redenriza interface do D-Tale\n",
    "dtale.show(df)"
   ]
  }
 ],
 "metadata": {
  "kernelspec": {
   "display_name": "base",
   "language": "python",
   "name": "python3"
  },
  "language_info": {
   "codemirror_mode": {
    "name": "ipython",
    "version": 3
   },
   "file_extension": ".py",
   "mimetype": "text/x-python",
   "name": "python",
   "nbconvert_exporter": "python",
   "pygments_lexer": "ipython3",
   "version": "3.11.5"
  }
 },
 "nbformat": 4,
 "nbformat_minor": 2
}
